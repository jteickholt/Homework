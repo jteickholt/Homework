{
 "cells": [
  {
   "cell_type": "code",
   "execution_count": null,
   "metadata": {},
   "outputs": [],
   "source": [
    "import os\n",
    "import pandas as pd\n",
    "import numpy as np"
   ]
  },
  {
   "cell_type": "code",
   "execution_count": null,
   "metadata": {},
   "outputs": [],
   "source": [
    "schools_file=os.path.join('..','..','..','RU-HOU-DATA-PT-09-2019-U-C','Homework','04-Pandas','Instructions','PyCitySchools','Resources','schools_complete.csv')\n",
    "students_file=os.path.join('..','..','..','RU-HOU-DATA-PT-09-2019-U-C','Homework','04-Pandas','Instructions','PyCitySchools','Resources','students_complete.csv')\n"
   ]
  },
  {
   "cell_type": "code",
   "execution_count": null,
   "metadata": {
    "scrolled": true
   },
   "outputs": [],
   "source": [
    "file_schools=pd.read_csv(schools_file)\n",
    "schools_df=pd.DataFrame(pd.read_csv(schools_file))\n"
   ]
  },
  {
   "cell_type": "code",
   "execution_count": null,
   "metadata": {},
   "outputs": [],
   "source": [
    "file_students=pd.read_csv(students_file)\n",
    "students_df=pd.DataFrame(pd.read_csv(students_file))\n"
   ]
  },
  {
   "cell_type": "code",
   "execution_count": null,
   "metadata": {},
   "outputs": [],
   "source": [
    "#merge the two files\n",
    "combined_df=pd.merge(students_df, schools_df, how='left', on=['school_name', 'school_name'])\n"
   ]
  },
  {
   "cell_type": "code",
   "execution_count": null,
   "metadata": {},
   "outputs": [],
   "source": [
    "#District Summary:  This begins the first section of the homework\n",
    "\n",
    "#calculate the number of shools\n",
    "\n",
    "count=combined_df['school_name'].value_counts()\n",
    "tot_schools=len(count)\n",
    "\n",
    "#calculate the number of students\n",
    "tot_students=combined_df['Student ID'].count()\n",
    "\n",
    "# calculate the total budget\n",
    "# revist this to figure out how to calculate using combined_df\n",
    "\n",
    "tot_budget=schools_df['budget'].sum()\n",
    "tot_budget\n",
    "\n"
   ]
  },
  {
   "cell_type": "code",
   "execution_count": null,
   "metadata": {},
   "outputs": [],
   "source": [
    "#calcualte the average math and reading score \n",
    "avg_scores=combined_df[['math_score','reading_score']].mean(axis=0)\n",
    "avg_scores\n",
    "\n",
    "#create a dataframe from the avg_scores series\n",
    "score_df=pd.DataFrame({'index': avg_scores.index, 'Avg Score':  avg_scores.values })\n",
    "\n",
    "#transpose the dataframe and make the first row the header\n",
    "score_df=score_df.transpose()\n",
    "new_header=score_df.iloc[0]\n",
    "score_df=score_df[1:]\n",
    "score_df.columns=new_header\n",
    "\n",
    "\n",
    "#calculate the average of the math and reading scores and add to the dataframe as Overall Score\n",
    "score_df['% Overall Passing Rate']=(score_df['math_score'] + score_df['reading_score'])/2\n",
    "\n",
    "\n"
   ]
  },
  {
   "cell_type": "code",
   "execution_count": null,
   "metadata": {},
   "outputs": [],
   "source": [
    "#calculate the % passing math and % passing reading\n",
    "\n",
    "perc_passmath=100*(len(combined_df[combined_df['math_score'] >= 70]))/len(combined_df)\n",
    "\n",
    "\n",
    "perc_passread=100*(len(combined_df[combined_df['reading_score'] >= 70]))/len(combined_df)\n",
    "\n"
   ]
  },
  {
   "cell_type": "code",
   "execution_count": null,
   "metadata": {},
   "outputs": [],
   "source": [
    "#District Summary Output:  This concluded the first part of the homework and display the results\n",
    "\n",
    "#create a list of the additional metrics that were calculated\n",
    "\n",
    "metrics_list=[tot_schools, tot_students, tot_budget, perc_passmath, perc_passread]\n",
    "\n",
    "#add the additional metrics that were calculated to the score_df\n",
    "\n",
    "score_df['Total Schools'], score_df['Total Students'], score_df['Total Budget'],score_df['% Passing Math'],score_df['% Passing Reading'] = metrics_list\n",
    "\n",
    "#create a cleaned up dataframe and display the results\n",
    "\n",
    "clean_df=score_df[['Total Schools','Total Students','Total Budget', 'math_score', 'reading_score', '% Passing Math','% Passing Reading','% Overall Passing Rate']]\n",
    "clean_df=clean_df.reset_index(drop=True)\n",
    "clean_df=clean_df.rename(columns={'math_score': 'Average Math Score', 'reading_score': 'Average Reading Score'})\n",
    "clean_df['Total Students']=clean_df['Total Students'].map(\"{:,}\".format)\n",
    "clean_df['Total Budget']=clean_df['Total Budget'].map(\"${:,}\".format)\n",
    "clean_df['Average Math Score']=clean_df['Average Math Score'].map(\"{:.3f}\".format)\n",
    "clean_df['Average Reading Score']=clean_df['Average Reading Score'].map(\"{:.3f}\".format)\n",
    "clean_df['% Passing Math']=clean_df['% Passing Math'].map(\"{:.3f}\".format)\n",
    "clean_df['% Passing Reading']=clean_df['% Passing Reading'].map(\"{:.3f}\".format)\n",
    "clean_df['% Overall Passing Rate']=clean_df['% Overall Passing Rate'].map(\"{:.3f}\".format)\n",
    "clean_df.head()"
   ]
  },
  {
   "cell_type": "code",
   "execution_count": null,
   "metadata": {},
   "outputs": [],
   "source": [
    "#School Summary\n"
   ]
  },
  {
   "cell_type": "code",
   "execution_count": null,
   "metadata": {},
   "outputs": [],
   "source": [
    "\n",
    "#To calculate the % passing math and reading, I create a field for each that is 100 if they are passing and 0 otherwise\n",
    "#I ill ehtn be able to do the average to get the percentages\n",
    "\n",
    "combined_df['Passing Math']=combined_df['math_score'].apply(lambda x: 100 if x >= 70 else 0)\n",
    "combined_df['Passing Reading']=combined_df['reading_score'].apply(lambda x: 100 if x >= 70 else 0)\n",
    "\n",
    "\n",
    "# Group by school name\n",
    "school_group_df=combined_df.groupby('school_name')\n",
    "\n",
    "# calculate severage values with will be strings that can be combined in a dataframe\n",
    "school_type=school_group_df['type'].first()\n",
    "\n",
    "tot_students=school_group_df['student_name'].count()\n",
    "\n",
    "tot_budget=school_group_df['budget'].mean()\n",
    "\n",
    "budget_perstudent=tot_budget/tot_students\n",
    "\n",
    "avg_math=school_group_df['math_score'].mean()\n",
    "\n",
    "avg_reading=school_group_df['reading_score'].mean()\n",
    "\n",
    "passmath=school_group_df['Passing Math'].mean()\n",
    "\n",
    "passreading=school_group_df['Passing Reading'].mean()\n",
    "\n",
    "overallpass=(passmath + passreading)/2\n",
    "\n"
   ]
  },
  {
   "cell_type": "code",
   "execution_count": null,
   "metadata": {},
   "outputs": [],
   "source": [
    "\n",
    "#Here I combine the string value from above into a dataframe.\n",
    "school_summ_df=pd.DataFrame({'School': tot_students.index, 'School Type': school_type.values ,'Total Students':  tot_students.values, \n",
    "                             'Total Budget': tot_budget.values, 'Per Student Budget': budget_perstudent.values,\n",
    "                             'Average Math Score':  avg_math.values, 'Average Reading Score' : avg_reading.values,\n",
    "                            '% Passing Math':  passmath.values, '% Passing Reading':  passreading.values,\n",
    "                            '% Overall Passing Rate':  overallpass.values})\n",
    "\n",
    "# I sort by the overall passing rate in descending order, then print the first five rows which will be the five highest\n",
    "\n",
    "school_summ_df=school_summ_df.sort_values('% Overall Passing Rate', ascending=False)\n",
    "\n",
    "school_summ_df.iloc[0:5,]\n"
   ]
  },
  {
   "cell_type": "code",
   "execution_count": null,
   "metadata": {},
   "outputs": [],
   "source": [
    "#I now sort in ascending order and print the first five, which will be the five lowest\n",
    "\n",
    "school_summ_df=school_summ_df.sort_values('% Overall Passing Rate')\n",
    "school_summ_df.iloc[:5,]"
   ]
  },
  {
   "cell_type": "code",
   "execution_count": null,
   "metadata": {
    "scrolled": true
   },
   "outputs": [],
   "source": [
    "#I now group by school name and grade level\n",
    "schoolgrade_df=combined_df.groupby(['school_name', 'grade'])\n",
    " \n",
    "#calculate the averge math score by school and grade level    \n",
    "mathbygrade_df=schoolgrade_df['math_score'].mean()\n",
    "\n",
    "#unstack the groupby data frame to the school as rows and grade level as columns\n",
    "#do a bit of rearranging to get it in the right order and print\n",
    "mathbygrade_df=mathbygrade_df.unstack()\n",
    "mathbygrade_df=mathbygrade_df[['9th', '10th', '11th','12th']]\n",
    "\n",
    "mathbygrade_df\n",
    "\n"
   ]
  },
  {
   "cell_type": "code",
   "execution_count": null,
   "metadata": {},
   "outputs": [],
   "source": []
  },
  {
   "cell_type": "code",
   "execution_count": null,
   "metadata": {},
   "outputs": [],
   "source": [
    "#calculate the averge reading score by school and grade level\n",
    "readingbygrade_df=schoolgrade_df['reading_score'].mean()\n",
    "\n",
    "#unstack the groupby data frame to the school as rows and grade level as columns\n",
    "#do a bit of rearranging to get it in the right order and print\n",
    "mathbygrade_df=mathbygrade_df.unstack()\n",
    "readingbygrade_df=readingbygrade_df.unstack()\n",
    "readingbygrade_df=readingbygrade_df[['9th', '10th', '11th','12th']]\n",
    "\n",
    "readingbygrade_df\n",
    "\n",
    "\n"
   ]
  },
  {
   "cell_type": "code",
   "execution_count": null,
   "metadata": {},
   "outputs": [],
   "source": [
    "# bin the data based on the spending per student\n",
    "\n",
    "spending_bins=[0, 585, 615, 645, 675]\n",
    "group_names=['<$585','$585-615','$615-645','$645-675']\n",
    "\n",
    "school_summ_spend_df=school_summ_df\n",
    "school_summ_spend_df['Spending Ranges (Per Student)'] = pd.cut(school_summ_spend_df['Per Student Budget'], spending_bins, labels=group_names)\n",
    "\n",
    "\n",
    "#group by the bin\n",
    "spendgroup_df=school_summ_spend_df.groupby(\"Spending Ranges (Per Student)\")\n",
    "\n",
    "#rearrange the dataframe and print the averages by bin\n",
    "spendgroup_df=spendgroup_df['Average Math Score', 'Average Reading Score','% Passing Math','% Passing Reading','% Overall Passing Rate']\n",
    "spendgroup_df.mean()                                              "
   ]
  },
  {
   "cell_type": "code",
   "execution_count": null,
   "metadata": {},
   "outputs": [],
   "source": [
    "#bin the data base on the size of the school\n",
    "size_bins=[0, 1000, 2000, 5000]\n",
    "size_names=[\"Small (<1000)\",\"Medium (1000 - 2000)\", \"Large (2000-5000)\"]\n",
    "\n",
    "school_summ_size_df=school_summ_df\n",
    "school_summ_size_df['School Size'] = pd.cut(school_summ_size_df['Total Students'], size_bins, labels=size_names)\n",
    "\n",
    "\n",
    "#group by the bin\n",
    "sizegroup_df=school_summ_df.groupby('School Size')\n",
    "\n",
    "#rearrange the dataframe and print the averages by bin\n",
    "sizegroup_df=sizegroup_df['Average Math Score','Average Reading Score','% Passing Math','% Passing Reading','% Overall Passing Rate']\n",
    "\n",
    "sizegroup_df.mean()"
   ]
  },
  {
   "cell_type": "code",
   "execution_count": null,
   "metadata": {},
   "outputs": [],
   "source": [
    "#bin the data based on the school type\n",
    "#Here the school type was a string, so I calculate a numeric type which was 1 if a Charter and 2 if District\n",
    "#I then set up the bins and label accordingly\n",
    "type_bins=[0,1,2]\n",
    "type_labels=['Charter','District']\n",
    "\n",
    "#group by the bin\n",
    "school_summ_type_df=school_summ_df\n",
    "school_summ_type_df['num_type'] = np.where(school_summ_type_df['School Type'] == 'Charter', 1, 2)\n",
    "\n",
    "school_summ_type_df['School Type'] = pd.cut(school_summ_type_df['num_type'], type_bins, labels=type_labels)\n",
    "\n",
    "typegroup_df=school_summ_df.groupby('School Type')\n",
    "\n",
    "#rearrange the dataframe and print the average by bin\n",
    "typegroup_df=typegroup_df['Average Math Score','Average Reading Score','% Passing Math','% Passing Reading','% Overall Passing Rate']\n",
    "typegroup_df.mean()"
   ]
  },
  {
   "cell_type": "code",
   "execution_count": null,
   "metadata": {},
   "outputs": [],
   "source": []
  }
 ],
 "metadata": {
  "kernelspec": {
   "display_name": "Python 3",
   "language": "python",
   "name": "python3"
  },
  "language_info": {
   "codemirror_mode": {
    "name": "ipython",
    "version": 3
   },
   "file_extension": ".py",
   "mimetype": "text/x-python",
   "name": "python",
   "nbconvert_exporter": "python",
   "pygments_lexer": "ipython3",
   "version": "3.7.3"
  }
 },
 "nbformat": 4,
 "nbformat_minor": 2
}
